{
 "cells": [
  {
   "cell_type": "markdown",
   "metadata": {},
   "source": [
    "# Data Transformation\n",
    "This notebook transforms the rows of data into an image format. The original data would be for MLPs and image format data would be for CNNs"
   ]
  },
  {
   "cell_type": "code",
   "execution_count": 1,
   "metadata": {
    "collapsed": true
   },
   "outputs": [],
   "source": [
    "import numpy as np\n",
    "import matplotlib.pyplot as plt\n",
    "from sklearn.externals import joblib\n"
   ]
  },
  {
   "cell_type": "code",
   "execution_count": 2,
   "metadata": {},
   "outputs": [
    {
     "data": {
      "text/plain": [
       "array([0, 1, 0, 0, 1, 1, 1, 1, 1, 1, 1, 1, 1, 0, 1, 0, 1, 1, 1, 0, 0, 0,\n",
       "       0, 1, 0, 1, 0, 0, 1, 1, 1, 1, 1, 0, 0, 0, 1, 0, 0, 1, 0, 0, 1, 1,\n",
       "       1, 1, 1, 0, 0, 1, 1, 1, 1, 0, 0, 1, 1, 1, 1, 1, 0, 1, 1, 0, 1, 0,\n",
       "       0, 1, 0, 0, 1, 1, 1, 1, 1, 0, 1, 1, 1, 0, 1, 1, 0, 0, 0, 1, 0, 0,\n",
       "       1, 0, 1, 1, 0, 0, 1, 0, 0, 1, 1, 0, 0, 0, 1, 1, 0, 1, 1, 1, 1, 1,\n",
       "       0, 1, 1, 0, 1, 0, 1, 1, 1, 1, 0, 1, 0, 0, 1, 0, 0, 1, 0, 1, 0, 0,\n",
       "       0, 1, 0, 0, 0, 0, 1, 0, 1, 1, 0, 1])"
      ]
     },
     "execution_count": 2,
     "metadata": {},
     "output_type": "execute_result"
    }
   ],
   "source": [
    "''' Create a matrix of random values, of shape (300,400)\n",
    "I used random integer values here between 0 and 255 \n",
    "but you can do the same for decimal pixel intensities '''\n",
    "mat = np.random.randint(0,2, 12*12)\n",
    "mat"
   ]
  },
  {
   "cell_type": "code",
   "execution_count": 3,
   "metadata": {},
   "outputs": [
    {
     "name": "stdout",
     "output_type": "stream",
     "text": [
      "<class 'numpy.ndarray'>\n",
      "(144,)\n",
      "[0 1 0 0 1 1 1 1 1 1 1 1 1 0 1 0 1 1 1 0 0 0 0 1 0 1 0 0 1 1 1 1 1 0 0 0 1\n",
      " 0 0 1 0 0 1 1 1 1 1 0 0 1 1 1 1 0 0 1 1 1 1 1 0 1 1 0 1 0 0 1 0 0 1 1 1 1\n",
      " 1 0 1 1 1 0 1 1 0 0 0 1 0 0 1 0 1 1 0 0 1 0 0 1 1 0 0 0 1 1 0 1 1 1 1 1 0\n",
      " 1 1 0 1 0 1 1 1 1 0 1 0 0 1 0 0 1 0 1 0 0 0 1 0 0 0 0 1 0 1 1 0 1]\n"
     ]
    }
   ],
   "source": [
    "print(type(mat))\n",
    "print(mat.shape)\n",
    "print(mat)"
   ]
  },
  {
   "cell_type": "code",
   "execution_count": 5,
   "metadata": {},
   "outputs": [
    {
     "name": "stdout",
     "output_type": "stream",
     "text": [
      "<class 'numpy.ndarray'>\n",
      "(12, 12)\n",
      "[[0 1 0 0 1 1 1 1 1 1 1 1]\n",
      " [1 0 1 0 1 1 1 0 0 0 0 1]\n",
      " [0 1 0 0 1 1 1 1 1 0 0 0]\n",
      " [1 0 0 1 0 0 1 1 1 1 1 0]\n",
      " [0 1 1 1 1 0 0 1 1 1 1 1]\n",
      " [0 1 1 0 1 0 0 1 0 0 1 1]\n",
      " [1 1 1 0 1 1 1 0 1 1 0 0]\n",
      " [0 1 0 0 1 0 1 1 0 0 1 0]\n",
      " [0 1 1 0 0 0 1 1 0 1 1 1]\n",
      " [1 1 0 1 1 0 1 0 1 1 1 1]\n",
      " [0 1 0 0 1 0 0 1 0 1 0 0]\n",
      " [0 1 0 0 0 0 1 0 1 1 0 1]]\n"
     ]
    },
    {
     "data": {
      "image/png": "[encoded data removed]",
      "text/plain": [
       "<matplotlib.figure.Figure at 0x2cd3fdc1c50>"
      ]
     },
     "metadata": {},
     "output_type": "display_data"
    }
   ],
   "source": [
    "mat = mat.reshape(12,12)\n",
    "print(type(mat))\n",
    "print(mat.shape)\n",
    "print(mat)\n",
    "\n",
    "fig1 = plt.gcf()\n",
    "fig1.suptitle('Test', fontsize=14, fontweight='bold')\n",
    "plt.imshow(mat, cmap='binary')\n",
    "plt.show()\n"
   ]
  },
  {
   "cell_type": "code",
   "execution_count": 43,
   "metadata": {
    "scrolled": true
   },
   "outputs": [
    {
     "data": {
      "image/png": "[encoded data removed]",
      "text/plain": [
       "<matplotlib.figure.Figure at 0x124fd994198>"
      ]
     },
     "metadata": {},
     "output_type": "display_data"
    }
   ],
   "source": [
    "# Call imshow:\n",
    "#figure(1, figsize=(12, 12))\n",
    "#plt.savefig(r'dataset\\img\\test.png',bbox_inches='tight')  \n",
    "#plt.savefig('test.png',  bbox_inches='tight')\n",
    "fig1 = plt.gcf()\n",
    "fig1.suptitle('Test', fontsize=14, fontweight='bold')\n",
    "plt.imshow(mat, cmap='binary')\n",
    "plt.show()\n",
    "plt.draw()\n",
    "fig1.savefig(r'dataset\\img\\test.png',bbox_inches='tight')"
   ]
  },
  {
   "cell_type": "code",
   "execution_count": 21,
   "metadata": {},
   "outputs": [
    {
     "name": "stdout",
     "output_type": "stream",
     "text": [
      "(11110, 12, 12)\n",
      "(11110,)\n"
     ]
    }
   ],
   "source": [
    "data = joblib.load(r\"dataset\\X_siamese-11110-12-12-1\" )\n",
    "labels = joblib.load(r\"dataset\\labels-11110\" )\n",
    "\n",
    "print(data.shape)\n",
    "print(labels.shape)"
   ]
  },
  {
   "cell_type": "code",
   "execution_count": 36,
   "metadata": {},
   "outputs": [
    {
     "data": {
      "text/plain": [
       "11110"
      ]
     },
     "execution_count": 36,
     "metadata": {},
     "output_type": "execute_result"
    }
   ],
   "source": [
    "len(data)"
   ]
  },
  {
   "cell_type": "code",
   "execution_count": 39,
   "metadata": {
    "scrolled": true
   },
   "outputs": [
    {
     "data": {
      "text/plain": [
       "array([[0., 0., 1., 1., 1., 0., 1., 0., 0., 1., 1., 0.],\n",
       "       [0., 0., 1., 0., 1., 0., 0., 1., 0., 0., 0., 0.],\n",
       "       [0., 1., 0., 0., 0., 0., 0., 1., 0., 0., 0., 0.],\n",
       "       [1., 0., 1., 0., 0., 0., 0., 0., 0., 0., 0., 0.],\n",
       "       [0., 0., 0., 0., 1., 0., 0., 0., 0., 0., 0., 0.],\n",
       "       [0., 0., 0., 0., 0., 0., 0., 0., 0., 0., 0., 0.],\n",
       "       [0., 0., 0., 0., 0., 0., 1., 0., 0., 1., 0., 1.],\n",
       "       [0., 0., 0., 0., 0., 0., 0., 0., 0., 0., 0., 0.],\n",
       "       [0., 0., 0., 0., 0., 0., 0., 0., 0., 0., 0., 0.],\n",
       "       [0., 0., 0., 1., 0., 0., 0., 0., 0., 0., 0., 0.],\n",
       "       [1., 0., 0., 0., 0., 0., 0., 0., 0., 0., 0., 0.],\n",
       "       [0., 0., 0., 0., 0., 0., 0., 0., 1., 1., 0., 0.]])"
      ]
     },
     "execution_count": 39,
     "metadata": {},
     "output_type": "execute_result"
    }
   ],
   "source": [
    "data[0]"
   ]
  },
  {
   "cell_type": "code",
   "execution_count": 60,
   "metadata": {},
   "outputs": [
    {
     "name": "stdout",
     "output_type": "stream",
     "text": [
      "<class 'numpy.ndarray'>\n",
      "(11110,)\n"
     ]
    }
   ],
   "source": [
    "print(type(labels.values))\n",
    "print(labels.shape)\n"
   ]
  },
  {
   "cell_type": "code",
   "execution_count": null,
   "metadata": {
    "scrolled": true
   },
   "outputs": [],
   "source": [
    "# 1 = malware\n",
    "# 0 benign\n",
    "\n",
    "img_filepath_0 = 'dataset//img//0//'\n",
    "img_filepath_1 = 'dataset//img//1//'\n",
    "\n",
    "for i in range( 0, len(data) ):\n",
    "    if (labels.values[i] == 0): \n",
    "        fig1 = plt.gcf()\n",
    "        fig1.suptitle('Benign', fontsize=12)\n",
    "        plt.imshow(data[i], cmap='binary')\n",
    "        plt.show()\n",
    "        plt.draw()\n",
    "        fig1.savefig(img_filepath_0+str(i)+'.png'   ,  bbox_inches='tight')\n",
    "    else:\n",
    "        fig1 = plt.gcf()\n",
    "        fig1.suptitle('Malware', fontsize=12)\n",
    "        plt.imshow(data[i], cmap='binary')\n",
    "        plt.show()\n",
    "        plt.draw()\n",
    "        fig1.savefig(img_filepath_1+str(i)+'.png'   ,  bbox_inches='tight')\n",
    "\n",
    "\n"
   ]
  },
  {
   "cell_type": "code",
   "execution_count": null,
   "metadata": {
    "collapsed": true
   },
   "outputs": [],
   "source": []
  }
 ],
 "metadata": {
  "kernelspec": {
   "display_name": "Python 3",
   "language": "python",
   "name": "python3"
  },
  "language_info": {
   "codemirror_mode": {
    "name": "ipython",
    "version": 3
   },
   "file_extension": ".py",
   "mimetype": "text/x-python",
   "name": "python",
   "nbconvert_exporter": "python",
   "pygments_lexer": "ipython3",
   "version": "3.7.2"
  }
 },
 "nbformat": 4,
 "nbformat_minor": 2
}
