{
 "cells": [
  {
   "cell_type": "markdown",
   "metadata": {
    "colab": {},
    "colab_type": "code",
    "collapsed": true,
    "id": "n2l9JnbwomdI"
   },
   "source": [
    "# Siamese MLP\n",
    "In this file we are building a Siamese network for one shot classification of the malwares\n",
    "The twin network is made of multi layer perceptrons (MLP)\n",
    "trainig is done on the pairs of classes from the malware dataset\n",
    "\n",
    "This implementation of Siamese network is inspired from the keras examples\n",
    "Reference: https://keras.io/examples/mnist_siamese/"
   ]
  },
  {
   "cell_type": "code",
   "execution_count": 2,
   "metadata": {
    "colab": {
     "base_uri": "https://localhost:8080/",
     "height": 1000
    },
    "colab_type": "code",
    "executionInfo": {
     "elapsed": 165179,
     "status": "ok",
     "timestamp": 1574787163928,
     "user": {
      "displayName": "Adarsh Verma",
      "photoUrl": "https://lh3.googleusercontent.com/a-/AAuE7mDHlyasykaIGgKwWXr_YUujzr9fEuR9kmCajOjn=s64",
      "userId": "16284963303673939937"
     },
     "user_tz": 300
    },
    "id": "isO90oLBnn_k",
    "outputId": "a97a01c2-8c88-404d-cf71-b33b6915a3bf"
   },
   "outputs": [],
   "source": [
    "# data manipulation libraries\n",
    "import numpy as np\n",
    "import random\n",
    "\n",
    "# plotting with matplotlib\n",
    "import matplotlib.pyplot as plt\n",
    "%matplotlib inline\n",
    "\n",
    "# Import keras, models, layers etc..\n",
    "from keras.datasets import mnist\n",
    "from keras.models import Model\n",
    "from keras.layers import Input, Flatten, Dense, Dropout, Lambda\n",
    "from keras.optimizers import RMSprop\n",
    "from keras import backend as K\n",
    "from keras.regularizers import l2\n",
    "\n",
    "# jobloib for pickeling, train test split\n",
    "from sklearn.externals import joblib\n",
    "from sklearn.model_selection import train_test_split\n",
    "\n",
    "# define number of classes for one-shot learning\n",
    "num_classes = 2        # 1 = malware and  0 = benign\n"
   ]
  },
  {
   "cell_type": "code",
   "execution_count": 3,
   "metadata": {},
   "outputs": [
    {
     "name": "stdout",
     "output_type": "stream",
     "text": [
      "(11110, 12, 12)\n",
      "(11110,)\n"
     ]
    }
   ],
   "source": [
    "# load the pre-processed data which is ndarray and labels\n",
    "data = joblib.load(r\"dataset\\X_siamese-11110-12-12-1\" )\n",
    "labels = joblib.load(r\"dataset\\labels-11110\" )\n",
    "print(data.shape)\n",
    "print(labels.shape)"
   ]
  },
  {
   "cell_type": "code",
   "execution_count": 5,
   "metadata": {
    "collapsed": true
   },
   "outputs": [],
   "source": [
    "# split the data into train and test for making the training and validation pairs for one shot \n",
    "x_train, x_test, y_train, y_test = train_test_split(data , labels, test_size = 0.33 , random_state = 4)"
   ]
  },
  {
   "cell_type": "code",
   "execution_count": 6,
   "metadata": {},
   "outputs": [
    {
     "data": {
      "text/plain": [
       "(12, 12)"
      ]
     },
     "execution_count": 6,
     "metadata": {},
     "output_type": "execute_result"
    }
   ],
   "source": [
    "# input shape would be same as data shape\n",
    "input_shape = x_train.shape[1:]\n",
    "\n",
    "input_shape"
   ]
  },
  {
   "cell_type": "code",
   "execution_count": 7,
   "metadata": {
    "collapsed": true
   },
   "outputs": [],
   "source": [
    "# Create functions\n",
    "\n",
    "# find euclidean distance between two vectors for distance layer of the Siamese Network\n",
    "def euclidean_distance(vects):\n",
    "    x, y = vects\n",
    "    sum_square = K.sum(K.square(x - y), axis=1, keepdims=True)\n",
    "    return K.sqrt(K.maximum(sum_square, K.epsilon()))\n",
    "\n",
    "# convert to the output shape\n",
    "def eucl_dist_output_shape(shapes):\n",
    "    shape1, shape2 = shapes\n",
    "    return (shape1[0], 1)\n",
    "\n",
    "# create pairs for two data points \n",
    "def create_pairs(x, row_indices):\n",
    "    \n",
    "    pairs = []\n",
    "    labels = []\n",
    "    n = min([len(row_indices[d]) for d in range(num_classes)]) - 1\n",
    "    for d in range(num_classes):\n",
    "        for i in range(n):\n",
    "            z1, z2 = row_indices[d][i], row_indices[d][i + 1]\n",
    "            pairs += [[x[z1], x[z2]]]\n",
    "            inc = random.randrange(1, num_classes)\n",
    "            dn = (d + inc) % num_classes\n",
    "            z1, z2 = row_indices[d][i], row_indices[dn][i]\n",
    "            pairs += [[x[z1], x[z2]]]\n",
    "            labels += [1, 0]\n",
    "    return np.array(pairs), np.array(labels)\n",
    "\n",
    "# Classification accuracy with a 0.5 threshold on distances\n",
    "def compute_accuracy(y_true, y_pred):    \n",
    "    pred = y_pred.ravel() < 0.5\n",
    "    return np.mean(pred == y_true)\n",
    "def accuracy(y_true, y_pred):\n",
    "    return K.mean(K.equal(y_true, K.cast(y_pred < 0.5, y_true.dtype)))"
   ]
  },
  {
   "cell_type": "markdown",
   "metadata": {},
   "source": [
    "# Contrastive loss function\n",
    "- a distance based loss function appropriate for Siamese n/w (instead prediction error based like logistic loss # or hinge loss for classification ). \n",
    "- tries to make sure that semantically similar instances stay close together - neighbors are pulled together and non-neighbors are pushed apart \n",
    "- It is calculated on pairs. Other example of similer loss funs - triplet loss.\n",
    "\n",
    "- Good explanation https://hackernoon.com/one-shot-learning-with-siamese-networks-in-pytorch-8ddaab10340e\n",
    "- main ref: Contrastive loss from Hadsell-et-al.'06\n",
    "http://yann.lecun.com/exdb/publis/pdf/hadsell-chopra-lecun-06.pdf\n"
   ]
  },
  {
   "cell_type": "code",
   "execution_count": 11,
   "metadata": {
    "collapsed": true
   },
   "outputs": [],
   "source": [
    "# contrastive loss function\n",
    "# y_pred = Dw; distance putput b/w two pairs\n",
    "# y_true = 0 is if pairs are similer and 1 if not\n",
    "\n",
    "def contrastive_loss(y_true, y_pred):\n",
    "    # margin greater than 0; dissimiler pairs beyond this margin will not contribute to the loss\n",
    "    # we only want to optimise the network based on pairs that are actually dissimilar , \n",
    "    # but the network thinks are fairly similar.\n",
    "    margin = 1\n",
    "    square_pred = K.square(y_pred)\n",
    "    margin_square = K.square(K.maximum(margin - y_pred, 0))\n",
    "    return K.mean(y_true * square_pred + (1 - y_true) * margin_square)\n"
   ]
  },
  {
   "cell_type": "code",
   "execution_count": 8,
   "metadata": {
    "collapsed": true
   },
   "outputs": [],
   "source": [
    "# base network for twin network\n",
    "'''    - A good value for dropout in a hidden layer is between 0.5 and 0.8. Input layers use a larger dropout rate, \n",
    "    such as of 0.8\n",
    "    '''\n",
    "    \n",
    "def create_base_network(input_shape):\n",
    "    \n",
    "    input = Input(shape=input_shape)\n",
    "    # we have to feed straiht rows to the MLP based Siamese network,so convert into vector form\n",
    "    x = Flatten()(input)\n",
    "    \n",
    "    # hidden layer with 32 nodes \n",
    "    x = Dense(32, activation='relu' )(x)\n",
    "    # 50% dropout rate\n",
    "    x = Dropout(0.5)(x)\n",
    "    \n",
    "    # last hidden layer \n",
    "    x = Dense(8, activation='relu')(x)\n",
    "    \n",
    "    # after this layer model will be followed by distance layer and then output layer\n",
    "    return Model(input, x)"
   ]
  },
  {
   "cell_type": "code",
   "execution_count": 9,
   "metadata": {
    "collapsed": true
   },
   "outputs": [],
   "source": [
    "# create training and validation set for positve(same) and negative (different) pairs\n",
    "row_indices = [np.where(y_train == i)[0] for i in range(num_classes)]\n",
    "tr_pairs, tr_y = create_pairs(x_train, row_indices)\n",
    "\n",
    "row_indices = [np.where(y_test == i)[0] for i in range(num_classes)]\n",
    "te_pairs, te_y = create_pairs(x_test, row_indices)\n",
    "\n",
    "# build base network \n",
    "base_network = create_base_network(input_shape)\n",
    "\n",
    "input_a = Input(shape=input_shape)\n",
    "input_b = Input(shape=input_shape)\n",
    "\n",
    "# As these are twin netowrks , so we the weights will be shared across the layers\n",
    "# netowrk pair :-\n",
    "processed_a = base_network(input_a)\n",
    "processed_b = base_network(input_b)\n",
    "\n",
    "# calculate distance between processed data on a and b\n",
    "distance = Lambda(euclidean_distance,\n",
    "                  output_shape=eucl_dist_output_shape)([processed_a, processed_b])\n",
    "\n",
    "# buld model\n",
    "model = Model([input_a, input_b], distance)\n",
    "\n"
   ]
  },
  {
   "cell_type": "code",
   "execution_count": 12,
   "metadata": {},
   "outputs": [
    {
     "name": "stdout",
     "output_type": "stream",
     "text": [
      "__________________________________________________________________________________________________\n",
      "Layer (type)                    Output Shape         Param #     Connected to                     \n",
      "==================================================================================================\n",
      "input_2 (InputLayer)            (None, 12, 12)       0                                            \n",
      "__________________________________________________________________________________________________\n",
      "input_3 (InputLayer)            (None, 12, 12)       0                                            \n",
      "__________________________________________________________________________________________________\n",
      "model_1 (Model)                 (None, 8)            4904        input_2[0][0]                    \n",
      "                                                                 input_3[0][0]                    \n",
      "__________________________________________________________________________________________________\n",
      "lambda_1 (Lambda)               (None, 1)            0           model_1[1][0]                    \n",
      "                                                                 model_1[2][0]                    \n",
      "==================================================================================================\n",
      "Total params: 4,904\n",
      "Trainable params: 4,904\n",
      "Non-trainable params: 0\n",
      "__________________________________________________________________________________________________\n"
     ]
    }
   ],
   "source": [
    "model.compile(loss=contrastive_loss, optimizer=RMSprop(), metrics=[accuracy])\n",
    "model.summary()"
   ]
  },
  {
   "cell_type": "code",
   "execution_count": 21,
   "metadata": {
    "scrolled": false
   },
   "outputs": [
    {
     "name": "stdout",
     "output_type": "stream",
     "text": [
      "Train on 14848 samples, validate on 7296 samples\n",
      "Epoch 1/20\n",
      "14848/14848 [==============================] - 1s 51us/step - loss: 0.0280 - accuracy: 0.9605 - val_loss: 0.0361 - val_accuracy: 0.9470\n",
      "Epoch 2/20\n",
      "14848/14848 [==============================] - 1s 48us/step - loss: 0.0267 - accuracy: 0.9622 - val_loss: 0.0368 - val_accuracy: 0.9450\n",
      "Epoch 3/20\n",
      "14848/14848 [==============================] - 1s 46us/step - loss: 0.0274 - accuracy: 0.9613 - val_loss: 0.0373 - val_accuracy: 0.9433\n",
      "Epoch 4/20\n",
      "14848/14848 [==============================] - 1s 46us/step - loss: 0.0268 - accuracy: 0.9609 - val_loss: 0.0353 - val_accuracy: 0.9486\n",
      "Epoch 5/20\n",
      "14848/14848 [==============================] - 1s 48us/step - loss: 0.0261 - accuracy: 0.9628 - val_loss: 0.0366 - val_accuracy: 0.9442\n",
      "Epoch 6/20\n",
      "14848/14848 [==============================] - 1s 47us/step - loss: 0.0270 - accuracy: 0.9617 - val_loss: 0.0364 - val_accuracy: 0.9457\n",
      "Epoch 7/20\n",
      "14848/14848 [==============================] - 1s 46us/step - loss: 0.0283 - accuracy: 0.9599 - val_loss: 0.0359 - val_accuracy: 0.9457\n",
      "Epoch 8/20\n",
      "14848/14848 [==============================] - 1s 45us/step - loss: 0.0270 - accuracy: 0.9624 - val_loss: 0.0369 - val_accuracy: 0.9444\n",
      "Epoch 9/20\n",
      "14848/14848 [==============================] - 1s 46us/step - loss: 0.0272 - accuracy: 0.9611 - val_loss: 0.0361 - val_accuracy: 0.9445\n",
      "Epoch 10/20\n",
      "14848/14848 [==============================] - 1s 44us/step - loss: 0.0270 - accuracy: 0.9629 - val_loss: 0.0364 - val_accuracy: 0.9450\n",
      "Epoch 11/20\n",
      "14848/14848 [==============================] - 1s 46us/step - loss: 0.0280 - accuracy: 0.9595 - val_loss: 0.0360 - val_accuracy: 0.9452\n",
      "Epoch 12/20\n",
      "14848/14848 [==============================] - 1s 51us/step - loss: 0.0269 - accuracy: 0.9613 - val_loss: 0.0361 - val_accuracy: 0.9449\n",
      "Epoch 13/20\n",
      "14848/14848 [==============================] - 1s 53us/step - loss: 0.0286 - accuracy: 0.9580 - val_loss: 0.0370 - val_accuracy: 0.9438\n",
      "Epoch 14/20\n",
      "14848/14848 [==============================] - 1s 48us/step - loss: 0.0283 - accuracy: 0.9590 - val_loss: 0.0375 - val_accuracy: 0.9433\n",
      "Epoch 15/20\n",
      "14848/14848 [==============================] - 1s 47us/step - loss: 0.0287 - accuracy: 0.9571 - val_loss: 0.0368 - val_accuracy: 0.9454\n",
      "Epoch 16/20\n",
      "14848/14848 [==============================] - 1s 45us/step - loss: 0.0274 - accuracy: 0.9605 - val_loss: 0.0372 - val_accuracy: 0.9445\n",
      "Epoch 17/20\n",
      "14848/14848 [==============================] - 1s 43us/step - loss: 0.0275 - accuracy: 0.9604 - val_loss: 0.0372 - val_accuracy: 0.9448\n",
      "Epoch 18/20\n",
      "14848/14848 [==============================] - 1s 53us/step - loss: 0.0265 - accuracy: 0.9604 - val_loss: 0.0380 - val_accuracy: 0.9420\n",
      "Epoch 19/20\n",
      "14848/14848 [==============================] - 1s 43us/step - loss: 0.0283 - accuracy: 0.9589 - val_loss: 0.0367 - val_accuracy: 0.9442\n",
      "Epoch 20/20\n",
      "14848/14848 [==============================] - 1s 48us/step - loss: 0.0270 - accuracy: 0.9614 - val_loss: 0.0377 - val_accuracy: 0.9434\n"
     ]
    }
   ],
   "source": [
    "# train\n",
    "history = model.fit([tr_pairs[:, 0], tr_pairs[:, 1]], tr_y,\n",
    "          batch_size=32,\n",
    "          epochs=20,\n",
    "          validation_data=([te_pairs[:, 0], te_pairs[:, 1]], te_y))\n",
    "\n"
   ]
  },
  {
   "cell_type": "code",
   "execution_count": 22,
   "metadata": {
    "scrolled": false
   },
   "outputs": [
    {
     "data": {
      "image/png": "[encoded data removed]",
      "text/plain": [
       "<matplotlib.figure.Figure at 0x1f418520be0>"
      ]
     },
     "metadata": {},
     "output_type": "display_data"
    },
    {
     "data": {
      "image/png": "[encoded data removed]",
      "text/plain": [
       "<matplotlib.figure.Figure at 0x1f41843c320>"
      ]
     },
     "metadata": {},
     "output_type": "display_data"
    }
   ],
   "source": [
    "# summarize history for accuracy\n",
    "plt.plot(history.history['accuracy'])\n",
    "plt.plot(history.history['val_accuracy'])\n",
    "plt.title('Siamese MLP accuracy')\n",
    "plt.ylabel('Accuracy')\n",
    "plt.xlabel('Epochs')\n",
    "plt.legend(['Train', 'Test'], loc='lower right')\n",
    "plt.show()\n",
    "# summarize history for loss\n",
    "plt.plot(history.history['loss'])\n",
    "plt.plot(history.history['val_loss'])\n",
    "plt.title('Siamese MLP loss')\n",
    "plt.ylabel('Loss')\n",
    "plt.xlabel('Epochs')\n",
    "plt.legend(['Train', 'Test'], loc='upper right')\n",
    "plt.show()"
   ]
  },
  {
   "cell_type": "code",
   "execution_count": 24,
   "metadata": {
    "scrolled": true
   },
   "outputs": [
    {
     "name": "stdout",
     "output_type": "stream",
     "text": [
      "* Accuracy on training set: 97.45%\n",
      "* Accuracy on test set: 94.34%\n"
     ]
    }
   ],
   "source": [
    "# compute final accuracy on training and test sets\n",
    "y_pred = model.predict([tr_pairs[:, 0], tr_pairs[:, 1]])\n",
    "# training accuracy\n",
    "tr_acc = compute_accuracy(tr_y, y_pred)\n",
    "\n",
    "y_pred = model.predict([te_pairs[:, 0], te_pairs[:, 1]])\n",
    "# testing accuracy\n",
    "te_acc = compute_accuracy(te_y, y_pred)\n",
    "\n",
    "print('* Accuracy on training set: %0.2f%%' % (100 * tr_acc))\n",
    "print('* Accuracy on test set: %0.2f%%' % (100 * te_acc))"
   ]
  },
  {
   "cell_type": "code",
   "execution_count": null,
   "metadata": {},
   "outputs": [],
   "source": [
    "from sklearn.externals import joblib\n",
    "filepath = r\"models\\siamese-mlp\"     \n",
    "joblib.dump(model ,filepath )\n",
    "siamese_mlp_val_acc = history.history['val_accuracy']\n",
    "joblib.dump( history.history['val_accuracy'], r\"results\\siamese_mlp_val_acc\" )"
   ]
  }
 ],
 "metadata": {
  "colab": {
   "name": "Siamese-MLP-MNIST",
   "provenance": []
  },
  "kernelspec": {
   "display_name": "Python 3",
   "language": "python",
   "name": "python3"
  },
  "language_info": {
   "codemirror_mode": {
    "name": "ipython",
    "version": 3
   },
   "file_extension": ".py",
   "mimetype": "text/x-python",
   "name": "python",
   "nbconvert_exporter": "python",
   "pygments_lexer": "ipython3",
   "version": "3.7.2"
  }
 },
 "nbformat": 4,
 "nbformat_minor": 1
}
