{
 "cells": [
  {
   "cell_type": "markdown",
   "metadata": {},
   "source": [
    "# MLP Architecture\n",
    "This notebook implements MLP on the original data."
   ]
  },
  {
   "cell_type": "code",
   "execution_count": 29,
   "metadata": {
    "colab": {
     "base_uri": "https://localhost:8080/",
     "height": 171,
     "resources": {
      "http://localhost:8080/nbextensions/google.colab/files.js": {
       "data": "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",
       "headers": [
        [
         "content-type",
         "application/javascript"
        ]
       ],
       "ok": true,
       "status": 200,
       "status_text": ""
      }
     }
    },
    "colab_type": "code",
    "id": "m_NRnXsJzphf",
    "outputId": "4a7733db-db62-483b-8511-546e5b57bb2e"
   },
   "outputs": [],
   "source": [
    "# import libraries for data manipulation\n",
    "import pandas as pd\n",
    "from sklearn.externals import joblib\n",
    "from sklearn.model_selection import train_test_split\n",
    "import numpy as np\n",
    "\n",
    "# keras for model building\n",
    "import keras\n",
    "from keras.models import Sequential\n",
    "from keras.layers import Dense, Dropout, Activation\n",
    "from keras.regularizers import l2\n",
    "from keras.metrics import binary_accuracy\n",
    "from keras import backend as K\n",
    "\n",
    "# for plotting the results\n",
    "import matplotlib.pyplot as plt\n",
    "%matplotlib inline\n",
    "\n",
    "# our classes of the malware dataset\n",
    "# 1 = malware\n",
    "# 0 benign\n"
   ]
  },
  {
   "cell_type": "code",
   "execution_count": 30,
   "metadata": {},
   "outputs": [
    {
     "name": "stdout",
     "output_type": "stream",
     "text": [
      "Shape of the  data = \n",
      "(11110, 144)\n",
      "Shape of the labels = \n",
      "(11110,)\n"
     ]
    }
   ],
   "source": [
    "# load the preprocessed numeric data - the form is the rows\n",
    "data = joblib.load(r\"dataset\\train_data_straight_rows.csv\")\n",
    "# load the labels corresponding to the data\n",
    "labels = joblib.load(r\"dataset\\labels.csv\")\n",
    "print(\"Shape of the  data = \")\n",
    "print(data.shape)\n",
    "print(\"Shape of the labels = \")\n",
    "print(labels.shape)"
   ]
  },
  {
   "cell_type": "code",
   "execution_count": 31,
   "metadata": {
    "collapsed": true
   },
   "outputs": [],
   "source": [
    "# convert the data and the lables into form a an numpy array\n",
    "X = np.array(data)\n",
    "y = np.array(labels)"
   ]
  },
  {
   "cell_type": "markdown",
   "metadata": {},
   "source": [
    "# Build MLP model"
   ]
  },
  {
   "cell_type": "code",
   "execution_count": 36,
   "metadata": {
    "collapsed": true
   },
   "outputs": [],
   "source": [
    "### Model architecture\n",
    "\n",
    "# Initialising the model from keras \n",
    "model = Sequential()\n",
    "\n",
    "# first hidden layer with Relu activation\n",
    "model.add(Dense(units = 32, activation = 'relu' ) )  \n",
    "\n",
    "# adding drop out layer with 50% dropout\n",
    "model.add(Dropout(0.5))\n",
    "\n",
    "# Another dense layer with Relu activation function\n",
    "model.add(Dense(units = 8, activation = 'relu'))\n",
    "\n",
    "# adding drop out layer with 50% dropout\n",
    "model.add(Dropout(0.5))\n",
    "\n",
    "# last layer for output  with 1 node and sigmoid actication function\n",
    "model.add(Dense(units = 1, activation = 'sigmoid'))\n"
   ]
  },
  {
   "cell_type": "code",
   "execution_count": 37,
   "metadata": {
    "collapsed": true
   },
   "outputs": [],
   "source": [
    "# compile the model with rmsprop optimizer and binary cross entrpy as loss function\n",
    "# we also want accuracy to keep track of training\n",
    "\n",
    "model.compile(optimizer = 'rmsprop', loss = 'binary_crossentropy',\n",
    "              metrics=['accuracy'])\n"
   ]
  },
  {
   "cell_type": "code",
   "execution_count": 38,
   "metadata": {
    "colab": {
     "base_uri": "https://localhost:8080/",
     "height": 3434
    },
    "colab_type": "code",
    "id": "1QlYnFgH9N49",
    "outputId": "cca1ea2e-7fb6-4e30-9c4b-c367abcffdf2",
    "scrolled": true
   },
   "outputs": [
    {
     "name": "stdout",
     "output_type": "stream",
     "text": [
      "Train on 7443 samples, validate on 3667 samples\n",
      "Epoch 1/50\n",
      "7443/7443 [==============================] - 1s 103us/step - loss: 0.4773 - acc: 0.7649 - val_loss: 0.5381 - val_acc: 0.7074\n",
      "Epoch 2/50\n",
      "7443/7443 [==============================] - 0s 49us/step - loss: 0.2765 - acc: 0.8822 - val_loss: 0.3267 - val_acc: 0.8296\n",
      "Epoch 3/50\n",
      "7443/7443 [==============================] - 0s 51us/step - loss: 0.2112 - acc: 0.9198 - val_loss: 0.2136 - val_acc: 0.9231\n",
      "Epoch 4/50\n",
      "7443/7443 [==============================] - 0s 53us/step - loss: 0.1787 - acc: 0.9331 - val_loss: 0.2161 - val_acc: 0.9220\n",
      "Epoch 5/50\n",
      "7443/7443 [==============================] - 0s 49us/step - loss: 0.1714 - acc: 0.9367 - val_loss: 0.2010 - val_acc: 0.9356\n",
      "Epoch 6/50\n",
      "7443/7443 [==============================] - 0s 49us/step - loss: 0.1598 - acc: 0.9401 - val_loss: 0.2198 - val_acc: 0.9310\n",
      "Epoch 7/50\n",
      "7443/7443 [==============================] - 0s 49us/step - loss: 0.1572 - acc: 0.9438 - val_loss: 0.2002 - val_acc: 0.9337\n",
      "Epoch 8/50\n",
      "7443/7443 [==============================] - 0s 51us/step - loss: 0.1458 - acc: 0.9464 - val_loss: 0.1923 - val_acc: 0.9381\n",
      "Epoch 9/50\n",
      "7443/7443 [==============================] - 0s 54us/step - loss: 0.1421 - acc: 0.9467 - val_loss: 0.1747 - val_acc: 0.9476\n",
      "Epoch 10/50\n",
      "7443/7443 [==============================] - 0s 54us/step - loss: 0.1460 - acc: 0.9507 - val_loss: 0.1671 - val_acc: 0.9534\n",
      "Epoch 11/50\n",
      "7443/7443 [==============================] - 0s 53us/step - loss: 0.1430 - acc: 0.9527 - val_loss: 0.1876 - val_acc: 0.9419\n",
      "Epoch 12/50\n",
      "7443/7443 [==============================] - 0s 50us/step - loss: 0.1362 - acc: 0.9528 - val_loss: 0.1696 - val_acc: 0.9490\n",
      "Epoch 13/50\n",
      "7443/7443 [==============================] - 0s 50us/step - loss: 0.1270 - acc: 0.9559 - val_loss: 0.1856 - val_acc: 0.9400\n",
      "Epoch 14/50\n",
      "7443/7443 [==============================] - 0s 47us/step - loss: 0.1386 - acc: 0.9522 - val_loss: 0.1809 - val_acc: 0.9449\n",
      "Epoch 15/50\n",
      "7443/7443 [==============================] - 0s 49us/step - loss: 0.1296 - acc: 0.9522 - val_loss: 0.1643 - val_acc: 0.9555\n",
      "Epoch 16/50\n",
      "7443/7443 [==============================] - 0s 51us/step - loss: 0.1300 - acc: 0.9551 - val_loss: 0.1740 - val_acc: 0.9463\n",
      "Epoch 17/50\n",
      "7443/7443 [==============================] - 0s 50us/step - loss: 0.1341 - acc: 0.9518 - val_loss: 0.1869 - val_acc: 0.9395\n",
      "Epoch 18/50\n",
      "7443/7443 [==============================] - 0s 47us/step - loss: 0.1275 - acc: 0.9570 - val_loss: 0.1605 - val_acc: 0.9564\n",
      "Epoch 19/50\n",
      "7443/7443 [==============================] - 0s 46us/step - loss: 0.1411 - acc: 0.9531 - val_loss: 0.1533 - val_acc: 0.9561\n",
      "Epoch 20/50\n",
      "7443/7443 [==============================] - 0s 47us/step - loss: 0.1312 - acc: 0.9558 - val_loss: 0.1701 - val_acc: 0.9515\n",
      "Epoch 21/50\n",
      "7443/7443 [==============================] - 0s 47us/step - loss: 0.1271 - acc: 0.9538 - val_loss: 0.1755 - val_acc: 0.9460\n",
      "Epoch 22/50\n",
      "7443/7443 [==============================] - 0s 47us/step - loss: 0.1225 - acc: 0.9571 - val_loss: 0.1891 - val_acc: 0.9446\n",
      "Epoch 23/50\n",
      "7443/7443 [==============================] - 0s 50us/step - loss: 0.1250 - acc: 0.9574 - val_loss: 0.1849 - val_acc: 0.9457\n",
      "Epoch 24/50\n",
      "7443/7443 [==============================] - 0s 45us/step - loss: 0.1226 - acc: 0.9558 - val_loss: 0.1783 - val_acc: 0.9487\n",
      "Epoch 25/50\n",
      "7443/7443 [==============================] - 0s 42us/step - loss: 0.1210 - acc: 0.9567 - val_loss: 0.1793 - val_acc: 0.9504\n",
      "Epoch 26/50\n",
      "7443/7443 [==============================] - 0s 48us/step - loss: 0.1288 - acc: 0.9555 - val_loss: 0.1945 - val_acc: 0.9482\n",
      "Epoch 27/50\n",
      "7443/7443 [==============================] - 0s 46us/step - loss: 0.1206 - acc: 0.9585 - val_loss: 0.1830 - val_acc: 0.9498\n",
      "Epoch 28/50\n",
      "7443/7443 [==============================] - 0s 47us/step - loss: 0.1165 - acc: 0.9574 - val_loss: 0.1914 - val_acc: 0.9468\n",
      "Epoch 29/50\n",
      "7443/7443 [==============================] - 0s 54us/step - loss: 0.1206 - acc: 0.9588 - val_loss: 0.1641 - val_acc: 0.9515\n",
      "Epoch 30/50\n",
      "7443/7443 [==============================] - 0s 60us/step - loss: 0.1243 - acc: 0.9608 - val_loss: 0.1792 - val_acc: 0.9525\n",
      "Epoch 31/50\n",
      "7443/7443 [==============================] - 0s 58us/step - loss: 0.1296 - acc: 0.9606 - val_loss: 0.1830 - val_acc: 0.9487\n",
      "Epoch 32/50\n",
      "7443/7443 [==============================] - 0s 59us/step - loss: 0.1170 - acc: 0.9573 - val_loss: 0.1677 - val_acc: 0.9506\n",
      "Epoch 33/50\n",
      "7443/7443 [==============================] - 0s 62us/step - loss: 0.1200 - acc: 0.9600 - val_loss: 0.2025 - val_acc: 0.9441\n",
      "Epoch 34/50\n",
      "7443/7443 [==============================] - 0s 62us/step - loss: 0.1205 - acc: 0.9594 - val_loss: 0.2114 - val_acc: 0.9403\n",
      "Epoch 35/50\n",
      "7443/7443 [==============================] - 0s 61us/step - loss: 0.1232 - acc: 0.9594 - val_loss: 0.1977 - val_acc: 0.9444\n",
      "Epoch 36/50\n",
      "7443/7443 [==============================] - 0s 63us/step - loss: 0.1185 - acc: 0.9636 - val_loss: 0.1949 - val_acc: 0.9493\n",
      "Epoch 37/50\n",
      "7443/7443 [==============================] - 0s 62us/step - loss: 0.1193 - acc: 0.9582 - val_loss: 0.2167 - val_acc: 0.9378\n",
      "Epoch 38/50\n",
      "7443/7443 [==============================] - 0s 59us/step - loss: 0.1146 - acc: 0.9608 - val_loss: 0.1734 - val_acc: 0.9468\n",
      "Epoch 39/50\n",
      "7443/7443 [==============================] - 0s 58us/step - loss: 0.1177 - acc: 0.9570 - val_loss: 0.1829 - val_acc: 0.9520\n",
      "Epoch 40/50\n",
      "7443/7443 [==============================] - 0s 60us/step - loss: 0.1145 - acc: 0.9655 - val_loss: 0.1580 - val_acc: 0.9602\n",
      "Epoch 41/50\n",
      "7443/7443 [==============================] - 0s 59us/step - loss: 0.1098 - acc: 0.9637 - val_loss: 0.1794 - val_acc: 0.9498\n",
      "Epoch 42/50\n",
      "7443/7443 [==============================] - 0s 58us/step - loss: 0.1180 - acc: 0.9622 - val_loss: 0.1855 - val_acc: 0.9487\n",
      "Epoch 43/50\n",
      "7443/7443 [==============================] - 0s 60us/step - loss: 0.1107 - acc: 0.9647 - val_loss: 0.1911 - val_acc: 0.9446\n",
      "Epoch 44/50\n",
      "7443/7443 [==============================] - 0s 54us/step - loss: 0.1207 - acc: 0.9602 - val_loss: 0.1730 - val_acc: 0.9555\n",
      "Epoch 45/50\n",
      "7443/7443 [==============================] - 0s 60us/step - loss: 0.1107 - acc: 0.9628 - val_loss: 0.1895 - val_acc: 0.9468\n",
      "Epoch 46/50\n",
      "7443/7443 [==============================] - 0s 58us/step - loss: 0.1253 - acc: 0.9600 - val_loss: 0.1978 - val_acc: 0.9425\n",
      "Epoch 47/50\n",
      "7443/7443 [==============================] - 0s 58us/step - loss: 0.1103 - acc: 0.9649 - val_loss: 0.1657 - val_acc: 0.9602\n",
      "Epoch 48/50\n",
      "7443/7443 [==============================] - 0s 57us/step - loss: 0.1160 - acc: 0.9612 - val_loss: 0.2196 - val_acc: 0.9476\n",
      "Epoch 49/50\n",
      "7443/7443 [==============================] - 0s 61us/step - loss: 0.1157 - acc: 0.9624 - val_loss: 0.1919 - val_acc: 0.9523\n",
      "Epoch 50/50\n",
      "7443/7443 [==============================] - 0s 59us/step - loss: 0.1218 - acc: 0.9636 - val_loss: 0.1900 - val_acc: 0.9457\n"
     ]
    }
   ],
   "source": [
    "# model summary and total parameters in the model\n",
    "model.summary()\n",
    "\n",
    "# begin the training\n",
    "# storing the details in history var\n",
    "history = model.fit(X, y, batch_size = 32, epochs = 50, validation_split=0.33 )"
   ]
  },
  {
   "cell_type": "code",
   "execution_count": 39,
   "metadata": {
    "scrolled": true
   },
   "outputs": [
    {
     "name": "stdout",
     "output_type": "stream",
     "text": [
      "_________________________________________________________________\n",
      "Layer (type)                 Output Shape              Param #   \n",
      "=================================================================\n",
      "dense_16 (Dense)             (None, 32)                4640      \n",
      "_________________________________________________________________\n",
      "dropout_11 (Dropout)         (None, 32)                0         \n",
      "_________________________________________________________________\n",
      "dense_17 (Dense)             (None, 8)                 264       \n",
      "_________________________________________________________________\n",
      "dropout_12 (Dropout)         (None, 8)                 0         \n",
      "_________________________________________________________________\n",
      "dense_18 (Dense)             (None, 1)                 9         \n",
      "=================================================================\n",
      "Total params: 4,913\n",
      "Trainable params: 4,913\n",
      "Non-trainable params: 0\n",
      "_________________________________________________________________\n"
     ]
    }
   ],
   "source": []
  },
  {
   "cell_type": "code",
   "execution_count": 44,
   "metadata": {},
   "outputs": [
    {
     "name": "stdout",
     "output_type": "stream",
     "text": [
      "dict_keys(['loss', 'val_loss', 'val_acc', 'acc'])\n"
     ]
    },
    {
     "data": {
      "image/png": "[encoded data removed]",
      "text/plain": [
       "<matplotlib.figure.Figure at 0x2b008709048>"
      ]
     },
     "metadata": {},
     "output_type": "display_data"
    },
    {
     "data": {
      "image/png": "[encoded data removed]",
      "text/plain": [
       "<matplotlib.figure.Figure at 0x2b008777080>"
      ]
     },
     "metadata": {},
     "output_type": "display_data"
    }
   ],
   "source": [
    "# list all data in history\n",
    "print(history.history.keys())\n",
    "\n",
    "# Plot the ACCURACY of training and testing\n",
    "plt.plot(history.history['acc'])\n",
    "plt.plot(history.history['val_acc'])\n",
    "plt.title('MLP accuracy')\n",
    "plt.ylabel('Accuracy')\n",
    "plt.xlabel('Epochs')\n",
    "plt.legend(['Train', 'Test'], loc='lower right')\n",
    "plt.show()\n",
    "\n",
    "# Plot the LOSS of training and testing\n",
    "plt.plot(history.history['loss'])\n",
    "plt.plot(history.history['val_loss'])\n",
    "plt.title('MLP loss')\n",
    "plt.ylabel('loss')\n",
    "plt.xlabel('epoch')\n",
    "plt.legend(['Train', 'Test'], loc='upper right')\n",
    "plt.show()"
   ]
  },
  {
   "cell_type": "code",
   "execution_count": 46,
   "metadata": {
    "scrolled": true
   },
   "outputs": [
    {
     "name": "stdout",
     "output_type": "stream",
     "text": [
      "* Accuracy on test set: 94.83%\n"
     ]
    }
   ],
   "source": [
    "# Mean accuracy on test set\n",
    "print('* Accuracy on test set: %0.2f%%' % (100 * np.mean(history.history['val_acc'][10:]) ))\n"
   ]
  },
  {
   "cell_type": "code",
   "execution_count": null,
   "metadata": {},
   "outputs": [],
   "source": [
    "# save the models and results for further analysis\n",
    "joblib.dump(history.history['val_acc'], r\"results\\acc_mlp\")\n",
    "joblib.dump(model, r\"models\\mlp\")\n"
   ]
  }
 ],
 "metadata": {
  "colab": {
   "name": "BreastCancer.ipynb",
   "provenance": [],
   "version": "0.3.2"
  },
  "kernelspec": {
   "display_name": "Python 3",
   "language": "python",
   "name": "python3"
  },
  "language_info": {
   "codemirror_mode": {
    "name": "ipython",
    "version": 3
   },
   "file_extension": ".py",
   "mimetype": "text/x-python",
   "name": "python",
   "nbconvert_exporter": "python",
   "pygments_lexer": "ipython3",
   "version": "3.7.2"
  }
 },
 "nbformat": 4,
 "nbformat_minor": 1
}
