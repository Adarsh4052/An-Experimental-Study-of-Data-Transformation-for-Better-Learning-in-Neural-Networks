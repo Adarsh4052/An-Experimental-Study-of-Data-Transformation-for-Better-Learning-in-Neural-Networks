{
 "cells": [
  {
   "cell_type": "markdown",
   "metadata": {
    "colab": {},
    "colab_type": "code",
    "collapsed": true,
    "id": "n2l9JnbwomdI"
   },
   "source": [
    "# Siamese CNN\n",
    "In this file we are building a Siamese network for one shot classification of the malwares\n",
    "The twin network is made of CNN\n",
    "trainig is done on the pairs of classes from the malware dataset\n",
    "\n",
    "This implementation of Siamese network is inspired from the keras examples\n",
    "Reference: https://keras.io/examples/mnist_siamese/"
   ]
  },
  {
   "cell_type": "code",
   "execution_count": 2,
   "metadata": {},
   "outputs": [
    {
     "name": "stderr",
     "output_type": "stream",
     "text": [
      "Using TensorFlow backend.\n"
     ]
    }
   ],
   "source": [
    "# data manipulation libraries\n",
    "import numpy as np\n",
    "import random\n",
    "\n",
    "# plotting with matplotlib\n",
    "import matplotlib.pyplot as plt\n",
    "%matplotlib inline\n",
    "\n",
    "# Import keras, models, layers etc..\n",
    "from keras.datasets import mnist\n",
    "from keras.models import Model\n",
    "from keras.layers import Input, Lambda\n",
    "from keras.optimizers import RMSprop\n",
    "from keras import backend as K\n",
    "from keras.models import Sequential\n",
    "from keras.layers import Dense, Dropout, Activation, Flatten, Conv2D, MaxPooling2D\n",
    "from keras.regularizers import l2\n",
    "\n",
    "# jobloib for pickeling, train test split\n",
    "from sklearn.externals import joblib\n",
    "from sklearn.model_selection import train_test_split\n",
    "\n",
    "# number of classes # where 1 = malware and  0 = benign\n",
    "num_classes = 2\n",
    "# shape of the images\n",
    "shape_w = 12\n",
    "shape_h = 12\n"
   ]
  },
  {
   "cell_type": "code",
   "execution_count": 3,
   "metadata": {},
   "outputs": [
    {
     "name": "stdout",
     "output_type": "stream",
     "text": [
      "(11110, 12, 12, 1)\n",
      "(11110,)\n"
     ]
    }
   ],
   "source": [
    "# load the pre-processed data which is in the form of images\n",
    "data = joblib.load(r\"dataset\\X-11110-12-12-1\" )\n",
    "labels = joblib.load(r\"dataset\\labels-11110\" )\n",
    "print(data.shape)\n",
    "print(labels.shape)"
   ]
  },
  {
   "cell_type": "code",
   "execution_count": 4,
   "metadata": {
    "collapsed": true
   },
   "outputs": [],
   "source": [
    "x_train, x_test, y_train, y_test = train_test_split(data , labels, test_size = 0.33 , random_state = 4)"
   ]
  },
  {
   "cell_type": "code",
   "execution_count": 5,
   "metadata": {},
   "outputs": [
    {
     "name": "stdout",
     "output_type": "stream",
     "text": [
      "Input shape of the images data= \n",
      "(12, 12, 1)\n",
      "All training data shape = \n",
      "(7443, 12, 12, 1)\n"
     ]
    }
   ],
   "source": [
    "input_shape = x_train.shape[1:]\n",
    "print(\"Input shape of the images data= \")\n",
    "print(input_shape)\n",
    "print(\"All training data shape = \")\n",
    "print(x_train.shape)"
   ]
  },
  {
   "cell_type": "code",
   "execution_count": 5,
   "metadata": {},
   "outputs": [
    {
     "data": {
      "text/plain": [
       "(12, 12, 1)"
      ]
     },
     "execution_count": 5,
     "metadata": {},
     "output_type": "execute_result"
    }
   ],
   "source": [
    "x_train.shape[1:]"
   ]
  },
  {
   "cell_type": "code",
   "execution_count": 10,
   "metadata": {
    "collapsed": true
   },
   "outputs": [],
   "source": [
    "# Create function\n",
    "\n",
    "# find euclidean distance between two vectors for distance layer of the Siamese Network\n",
    "def euclidean_distance(vects):\n",
    "    x, y = vects\n",
    "    sum_square = K.sum(K.square(x - y), axis=1, keepdims=True)\n",
    "    return K.sqrt(K.maximum(sum_square, K.epsilon()))\n",
    "\n",
    "# convert to the output shape\n",
    "def eucl_dist_output_shape(shapes):\n",
    "    shape1, shape2 = shapes\n",
    "    return (shape1[0], 1)\n",
    "\n",
    "\n",
    "# create pairs for two data points \n",
    "def create_pairs(x, img_indices):\n",
    "    pairs = []\n",
    "    labels = []\n",
    "    n = min([len(img_indices[d]) for d in range(num_classes)]) - 1\n",
    "    for d in range(num_classes):\n",
    "        for i in range(n):\n",
    "            z1, z2 = img_indices[d][i], img_indices[d][i + 1]\n",
    "            pairs += [[x[z1], x[z2]]]\n",
    "            inc = random.randrange(1, num_classes)\n",
    "            dn = (d + inc) % num_classes\n",
    "            z1, z2 = img_indices[d][i], img_indices[dn][i]\n",
    "            pairs += [[x[z1], x[z2]]]\n",
    "            labels += [1, 0]\n",
    "    return np.array(pairs), np.array(labels)\n",
    "\n",
    "# Classification accuracy with a 0.5 threshold on distances\n",
    "def compute_accuracy(y_true, y_pred):\n",
    "    pred = y_pred.ravel() < 0.5\n",
    "    return np.mean(pred == y_true)\n",
    "def accuracy(y_true, y_pred):\n",
    "    return K.mean(K.equal(y_true, K.cast(y_pred < 0.5, y_true.dtype)))"
   ]
  },
  {
   "cell_type": "markdown",
   "metadata": {},
   "source": [
    "# Contrastive loss function\n",
    "- a distance based loss function appropriate for Siamese n/w (instead prediction error based like logistic loss # or hinge loss for classification ). \n",
    "- tries to make sure that semantically similar instances stay close together - neighbors are pulled together and non-neighbors are pushed apart \n",
    "- It is calculated on pairs. Other example of similer loss funs - triplet loss.\n",
    "\n",
    "- Good explanation https://hackernoon.com/one-shot-learning-with-siamese-networks-in-pytorch-8ddaab10340e\n",
    "- main ref: Contrastive loss from Hadsell-et-al.'06\n",
    "http://yann.lecun.com/exdb/publis/pdf/hadsell-chopra-lecun-06.pdf\n"
   ]
  },
  {
   "cell_type": "code",
   "execution_count": 11,
   "metadata": {
    "collapsed": true
   },
   "outputs": [],
   "source": [
    "# contrastive loss function\n",
    "# y_pred = Dw; distance putput b/w two pairs\n",
    "# y_true = 0 is if pairs are similer and 1 if not\n",
    "\n",
    "def contrastive_loss(y_true, y_pred):\n",
    "    # margin greater than 0; dissimiler pairs beyond this margin will not contribute to the loss\n",
    "    # we only want to optimise the network based on pairs that are actually dissimilar , \n",
    "    # but the network thinks are fairly similar.\n",
    "    margin = 1\n",
    "    square_pred = K.square(y_pred)\n",
    "    margin_square = K.square(K.maximum(margin - y_pred, 0))\n",
    "    return K.mean(y_true * square_pred + (1 - y_true) * margin_square)\n"
   ]
  },
  {
   "cell_type": "code",
   "execution_count": 18,
   "metadata": {
    "collapsed": true
   },
   "outputs": [],
   "source": [
    "def create_base_network(input_shape):\n",
    "    # CNN with 5X5 filter\n",
    "    img_size = (shape_w * shape_h )\n",
    "    \n",
    "    input = Input(shape=input_shape)\n",
    "    x = Sequential()(input)\n",
    "    \n",
    "    x = Conv2D(img_size, (5, 5), input_shape= input_shape, activation='relu', padding = 'same')(x)\n",
    "    # pooling layer\n",
    "    x = MaxPooling2D(pool_size=(2, 2))(x)\n",
    "    # 50% dropout rate\n",
    "    x = Dropout(0.5)(x)\n",
    "\n",
    "    # this converts our 3D feature maps to 1D feature vectors\n",
    "    x = Flatten()(x)\n",
    "    x = Dense(8, activation='relu')(x)\n",
    "    \n",
    "    # after this layer model will be followed by distance layer and then output layer\n",
    "    \n",
    "    return Model(input, x)\n"
   ]
  },
  {
   "cell_type": "code",
   "execution_count": 19,
   "metadata": {
    "collapsed": true
   },
   "outputs": [],
   "source": [
    "# create training and validation set for positve(same) and negative (different) pairs\n",
    "img_indices = [np.where(y_train == i)[0] for i in range(num_classes)]\n",
    "tr_pairs, tr_y = create_pairs(x_train, img_indices)\n",
    "\n",
    "img_indices = [np.where(y_test == i)[0] for i in range(num_classes)]\n",
    "te_pairs, te_y = create_pairs(x_test, img_indices)\n",
    "\n",
    "# build base network \n",
    "base_network = create_base_network(input_shape)\n",
    "\n",
    "input_a = Input(shape=input_shape)\n",
    "input_b = Input(shape=input_shape)\n",
    "\n",
    "# As these are twin netowrks , so we the weights will be shared across the layers\n",
    "# netowrk pair :-\n",
    "processed_a = base_network(input_a)\n",
    "processed_b = base_network(input_b)\n",
    "\n",
    "# calculate distance between processed data on a and b\n",
    "distance = Lambda(euclidean_distance,\n",
    "                  output_shape=eucl_dist_output_shape)([processed_a, processed_b])\n",
    "\n",
    "# buld model\n",
    "model = Model([input_a, input_b], distance)\n"
   ]
  },
  {
   "cell_type": "code",
   "execution_count": 20,
   "metadata": {},
   "outputs": [
    {
     "name": "stdout",
     "output_type": "stream",
     "text": [
      "__________________________________________________________________________________________________\n",
      "Layer (type)                    Output Shape         Param #     Connected to                     \n",
      "==================================================================================================\n",
      "input_5 (InputLayer)            (None, 12, 12, 1)    0                                            \n",
      "__________________________________________________________________________________________________\n",
      "input_6 (InputLayer)            (None, 12, 12, 1)    0                                            \n",
      "__________________________________________________________________________________________________\n",
      "model_3 (Model)                 (None, 8)            45224       input_5[0][0]                    \n",
      "                                                                 input_6[0][0]                    \n",
      "__________________________________________________________________________________________________\n",
      "lambda_2 (Lambda)               (None, 1)            0           model_3[1][0]                    \n",
      "                                                                 model_3[2][0]                    \n",
      "==================================================================================================\n",
      "Total params: 45,224\n",
      "Trainable params: 45,224\n",
      "Non-trainable params: 0\n",
      "__________________________________________________________________________________________________\n"
     ]
    }
   ],
   "source": [
    "# complie the model and see the params\n",
    "model.compile(loss=contrastive_loss, optimizer=RMSprop(), metrics=[accuracy])\n",
    "model.summary()"
   ]
  },
  {
   "cell_type": "code",
   "execution_count": 21,
   "metadata": {},
   "outputs": [
    {
     "name": "stdout",
     "output_type": "stream",
     "text": [
      "Train on 14848 samples, validate on 7296 samples\n",
      "Epoch 1/20\n",
      "14848/14848 [==============================] - 8s 566us/step - loss: 0.1104 - accuracy: 0.8575 - val_loss: 0.0643 - val_accuracy: 0.9283\n",
      "Epoch 2/20\n",
      "14848/14848 [==============================] - 8s 545us/step - loss: 0.0677 - accuracy: 0.9267 - val_loss: 0.0550 - val_accuracy: 0.9368\n",
      "Epoch 3/20\n",
      "14848/14848 [==============================] - 11s 714us/step - loss: 0.0610 - accuracy: 0.9358 - val_loss: 0.0522 - val_accuracy: 0.9412\n",
      "Epoch 4/20\n",
      "14848/14848 [==============================] - 11s 766us/step - loss: 0.0567 - accuracy: 0.9432 - val_loss: 0.0493 - val_accuracy: 0.9434\n",
      "Epoch 5/20\n",
      "14848/14848 [==============================] - 11s 768us/step - loss: 0.0535 - accuracy: 0.9454 - val_loss: 0.0476 - val_accuracy: 0.9485\n",
      "Epoch 6/20\n",
      "14848/14848 [==============================] - 10s 683us/step - loss: 0.0509 - accuracy: 0.9489 - val_loss: 0.0472 - val_accuracy: 0.9459\n",
      "Epoch 7/20\n",
      "14848/14848 [==============================] - 10s 667us/step - loss: 0.0480 - accuracy: 0.9543 - val_loss: 0.0457 - val_accuracy: 0.9471\n",
      "Epoch 8/20\n",
      "14848/14848 [==============================] - 11s 737us/step - loss: 0.0474 - accuracy: 0.9541 - val_loss: 0.0472 - val_accuracy: 0.9502\n",
      "Epoch 9/20\n",
      "14848/14848 [==============================] - 11s 767us/step - loss: 0.0466 - accuracy: 0.9567 - val_loss: 0.0444 - val_accuracy: 0.9509\n",
      "Epoch 10/20\n",
      "14848/14848 [==============================] - 11s 725us/step - loss: 0.0453 - accuracy: 0.9583 - val_loss: 0.0429 - val_accuracy: 0.9519\n",
      "Epoch 11/20\n",
      "14848/14848 [==============================] - 10s 684us/step - loss: 0.0442 - accuracy: 0.9577 - val_loss: 0.0436 - val_accuracy: 0.9546\n",
      "Epoch 12/20\n",
      "14848/14848 [==============================] - 10s 691us/step - loss: 0.0443 - accuracy: 0.9574 - val_loss: 0.0415 - val_accuracy: 0.9533\n",
      "Epoch 13/20\n",
      "14848/14848 [==============================] - 10s 666us/step - loss: 0.0425 - accuracy: 0.9597 - val_loss: 0.0429 - val_accuracy: 0.9490\n",
      "Epoch 14/20\n",
      "14848/14848 [==============================] - 10s 676us/step - loss: 0.0414 - accuracy: 0.9611 - val_loss: 0.0427 - val_accuracy: 0.9526\n",
      "Epoch 15/20\n",
      "14848/14848 [==============================] - 10s 661us/step - loss: 0.0422 - accuracy: 0.9608 - val_loss: 0.0424 - val_accuracy: 0.9526\n",
      "Epoch 16/20\n",
      "14848/14848 [==============================] - 10s 645us/step - loss: 0.0406 - accuracy: 0.9620 - val_loss: 0.0409 - val_accuracy: 0.9538\n",
      "Epoch 17/20\n",
      "14848/14848 [==============================] - 10s 670us/step - loss: 0.0399 - accuracy: 0.9644 - val_loss: 0.0422 - val_accuracy: 0.9538\n",
      "Epoch 18/20\n",
      "14848/14848 [==============================] - 10s 696us/step - loss: 0.0399 - accuracy: 0.9633 - val_loss: 0.0391 - val_accuracy: 0.9531\n",
      "Epoch 19/20\n",
      "14848/14848 [==============================] - 10s 706us/step - loss: 0.0395 - accuracy: 0.9641 - val_loss: 0.0416 - val_accuracy: 0.9529\n",
      "Epoch 20/20\n",
      "14848/14848 [==============================] - 11s 748us/step - loss: 0.0387 - accuracy: 0.9641 - val_loss: 0.0415 - val_accuracy: 0.9544\n"
     ]
    }
   ],
   "source": [
    "# train\n",
    "history = model.fit([tr_pairs[:, 0], tr_pairs[:, 1]], tr_y,\n",
    "          batch_size=32,\n",
    "          epochs=20,\n",
    "          validation_data=([te_pairs[:, 0], te_pairs[:, 1]], te_y))\n",
    "\n"
   ]
  },
  {
   "cell_type": "code",
   "execution_count": 24,
   "metadata": {
    "scrolled": false
   },
   "outputs": [
    {
     "data": {
      "image/png": "[encoded data removed]",
      "text/plain": [
       "<matplotlib.figure.Figure at 0x1a5ff91b9b0>"
      ]
     },
     "metadata": {},
     "output_type": "display_data"
    },
    {
     "data": {
      "image/png": "[encoded data removed]",
      "text/plain": [
       "<matplotlib.figure.Figure at 0x1a5ff94bf60>"
      ]
     },
     "metadata": {},
     "output_type": "display_data"
    }
   ],
   "source": [
    "# plot for accuracy\n",
    "plt.plot(history.history['accuracy'])\n",
    "plt.plot(history.history['val_accuracy'])\n",
    "plt.title('Siamse_CNN_5X5_Same accuracy')\n",
    "plt.ylabel('Accuracy')\n",
    "plt.xlabel('Epochs')\n",
    "plt.legend(['Train', 'Test'], loc='lower right')\n",
    "plt.show()\n",
    "# plot the loss\n",
    "plt.plot(history.history['loss'])\n",
    "plt.plot(history.history['val_loss'])\n",
    "plt.title('Siamse_CNN_5X5_Same loss')\n",
    "plt.ylabel('Loss')\n",
    "plt.xlabel('Epochs')\n",
    "plt.legend(['Train', 'Test'], loc='upper right')\n",
    "plt.show()"
   ]
  },
  {
   "cell_type": "code",
   "execution_count": 23,
   "metadata": {},
   "outputs": [
    {
     "name": "stdout",
     "output_type": "stream",
     "text": [
      "* Accuracy on training set: 97.53%\n",
      "* Accuracy on test set: 95.44%\n"
     ]
    }
   ],
   "source": [
    "# compute final accuracy on training and test sets\n",
    "y_pred = model.predict([tr_pairs[:, 0], tr_pairs[:, 1]])\n",
    "# training accuracy\n",
    "tr_acc = compute_accuracy(tr_y, y_pred)\n",
    "\n",
    "y_pred = model.predict([te_pairs[:, 0], te_pairs[:, 1]])\n",
    "# testing accuracy\n",
    "te_acc = compute_accuracy(te_y, y_pred)\n",
    "\n",
    "print('* Accuracy on training set: %0.2f%%' % (100 * tr_acc))\n",
    "print('* Accuracy on test set: %0.2f%%' % (100 * te_acc))"
   ]
  },
  {
   "cell_type": "code",
   "execution_count": null,
   "metadata": {},
   "outputs": [],
   "source": [
    "from sklearn.externals import joblib\n",
    "\n",
    "siamese_cnn_val_acc = history.history['val_accuracy']\n",
    "joblib.dump( siamese_cnn_val_acc, r\"results\\siamese_cnn_val_acc\" )\n",
    "\n",
    "filepath = r\"models\\siamese-cnn\"     \n",
    "joblib.dump(model ,filepath )\n",
    "\n"
   ]
  }
 ],
 "metadata": {
  "colab": {
   "name": "Siamese-MLP-MNIST",
   "provenance": []
  },
  "kernelspec": {
   "display_name": "Python 3",
   "language": "python",
   "name": "python3"
  },
  "language_info": {
   "codemirror_mode": {
    "name": "ipython",
    "version": 3
   },
   "file_extension": ".py",
   "mimetype": "text/x-python",
   "name": "python",
   "nbconvert_exporter": "python",
   "pygments_lexer": "ipython3",
   "version": "3.7.2"
  }
 },
 "nbformat": 4,
 "nbformat_minor": 1
}
